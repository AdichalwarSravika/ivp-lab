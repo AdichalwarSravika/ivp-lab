{
 "cells": [
  {
   "cell_type": "code",
   "execution_count": 1,
   "id": "8d7924a9",
   "metadata": {},
   "outputs": [],
   "source": [
    "#Winer\n",
    "import cv2\n",
    "import numpy as np\n",
    "\n",
    "# Read the noisy image\n",
    "image = cv2.imread('C:/Users/DS20/Desktop/image.png', 0)\n",
    "\n",
    "# Apply Wiener filtering (using OpenCV)\n",
    "# First, create a kernel for Wiener filtering\n",
    "kernel = np.ones((5, 5), np.float32) / 25  # Example kernel\n",
    "filtered_image = cv2.filter2D(image, -1, kernel)\n",
    "\n",
    "# Show original and filtered images\n",
    "cv2.imshow('Original Image', image)\n",
    "cv2.imshow('Filtered Image', filtered_image)\n",
    "cv2.waitKey(0)\n",
    "cv2.destroyAllWindows()\n"
   ]
  },
  {
   "cell_type": "code",
   "execution_count": 3,
   "id": "d3dfb3d1",
   "metadata": {},
   "outputs": [],
   "source": [
    "#inverse\n",
    "import cv2\n",
    "import numpy as np\n",
    "\n",
    "# Load the degraded image and blur kernel\n",
    "degraded_image = cv2.imread('C:/Users/DS20/Desktop/image.png', 0)\n",
    "blur_kernel = np.ones((5, 5)) / 25  # Example blur kernel\n",
    "\n",
    "# Apply Fourier transforms\n",
    "image_fft = np.fft.fft2(degraded_image)\n",
    "kernel_fft = np.fft.fft2(blur_kernel, s=degraded_image.shape)\n",
    "\n",
    "# Inverse filtering (restoring)\n",
    "restored_fft = image_fft / kernel_fft\n",
    "restored_image = np.fft.ifft2(restored_fft).real\n",
    "\n",
    "# Show original and restored images\n",
    "cv2.imshow('Restored Image', restored_image)\n",
    "cv2.waitKey(0)\n",
    "cv2.destroyAllWindows()\n"
   ]
  },
  {
   "cell_type": "code",
   "execution_count": 4,
   "id": "f66da6f0",
   "metadata": {},
   "outputs": [],
   "source": [
    "#non local means denoising\n",
    "import cv2\n",
    "\n",
    "# Load noisy image\n",
    "image = cv2.imread('C:/Users/DS20/Desktop/image.png')\n",
    "\n",
    "# Apply Non-Local Means Denoising\n",
    "denoised_image = cv2.fastNlMeansDenoisingColored(image, None, 10, 10, 7, 21)\n",
    "\n",
    "# Show original and denoised images\n",
    "cv2.imshow('Original Image', image)\n",
    "cv2.imshow('Denoised Image', denoised_image)\n",
    "cv2.waitKey(0)\n",
    "cv2.destroyAllWindows()\n"
   ]
  },
  {
   "cell_type": "code",
   "execution_count": null,
   "id": "a4419f08",
   "metadata": {},
   "outputs": [],
   "source": []
  }
 ],
 "metadata": {
  "kernelspec": {
   "display_name": "Python 3 (ipykernel)",
   "language": "python",
   "name": "python3"
  },
  "language_info": {
   "codemirror_mode": {
    "name": "ipython",
    "version": 3
   },
   "file_extension": ".py",
   "mimetype": "text/x-python",
   "name": "python",
   "nbconvert_exporter": "python",
   "pygments_lexer": "ipython3",
   "version": "3.11.5"
  }
 },
 "nbformat": 4,
 "nbformat_minor": 5
}
